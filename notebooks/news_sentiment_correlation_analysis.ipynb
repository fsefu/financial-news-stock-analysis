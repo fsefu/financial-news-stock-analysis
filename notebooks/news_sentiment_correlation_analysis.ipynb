{
 "cells": [
  {
   "cell_type": "code",
   "execution_count": 1,
   "id": "d60d3590-a023-474d-9d63-4b425367c6aa",
   "metadata": {},
   "outputs": [
    {
     "ename": "ImportError",
     "evalue": "cannot import name 'DataLoader' from 'data_loader' (d:\\tutorial\\10x\\tasks\\task_1\\financial-news-stock-analysis\\src\\data_loader\\__init__.py)",
     "output_type": "error",
     "traceback": [
      "\u001b[1;31m---------------------------------------------------------------------------\u001b[0m",
      "\u001b[1;31mImportError\u001b[0m                               Traceback (most recent call last)",
      "Cell \u001b[1;32mIn[1], line 6\u001b[0m\n\u001b[0;32m      3\u001b[0m \u001b[38;5;28;01mimport\u001b[39;00m \u001b[38;5;21;01mos\u001b[39;00m\n\u001b[0;32m      4\u001b[0m sys\u001b[38;5;241m.\u001b[39mpath\u001b[38;5;241m.\u001b[39mappend(os\u001b[38;5;241m.\u001b[39mpath\u001b[38;5;241m.\u001b[39mabspath(os\u001b[38;5;241m.\u001b[39mpath\u001b[38;5;241m.\u001b[39mjoin(os\u001b[38;5;241m.\u001b[39mgetcwd(), \u001b[38;5;124m'\u001b[39m\u001b[38;5;124m../src\u001b[39m\u001b[38;5;124m'\u001b[39m)))\n\u001b[1;32m----> 6\u001b[0m \u001b[38;5;28;01mfrom\u001b[39;00m \u001b[38;5;21;01mdata_loader\u001b[39;00m \u001b[38;5;28;01mimport\u001b[39;00m DataLoader\n\u001b[0;32m      7\u001b[0m \u001b[38;5;28;01mfrom\u001b[39;00m \u001b[38;5;21;01manalysis\u001b[39;00m\u001b[38;5;21;01m.\u001b[39;00m\u001b[38;5;21;01msentiment_analyzer\u001b[39;00m \u001b[38;5;28;01mimport\u001b[39;00m SentimentAnalyzer\n\u001b[0;32m      8\u001b[0m \u001b[38;5;28;01mfrom\u001b[39;00m \u001b[38;5;21;01manalysis\u001b[39;00m\u001b[38;5;21;01m.\u001b[39;00m\u001b[38;5;21;01mstock_analysis\u001b[39;00m \u001b[38;5;28;01mimport\u001b[39;00m StockAnalysis\n",
      "\u001b[1;31mImportError\u001b[0m: cannot import name 'DataLoader' from 'data_loader' (d:\\tutorial\\10x\\tasks\\task_1\\financial-news-stock-analysis\\src\\data_loader\\__init__.py)"
     ]
    }
   ],
   "source": [
    "import pandas as pd\n",
    "import sys\n",
    "import os\n",
    "sys.path.append(os.path.abspath(os.path.join(os.getcwd(), '../src')))\n",
    "\n",
    "from analysis.data_loader import DataLoader\n",
    "from analysis.sentiment_analyzer import SentimentAnalyzer\n",
    "from analysis.stock_analysis import StockAnalysis\n",
    "from analysis.visualizer import Visualizer"
   ]
  },
  {
   "cell_type": "code",
   "execution_count": null,
   "id": "de344912-1b0a-41e3-89fc-9ff7a268eef0",
   "metadata": {},
   "outputs": [],
   "source": [
    "#  Initialize classes and load data\n",
    "\n",
    "news_data_path = '../data/raw_analyst_ratings.csv'\n",
    "stock_data_dir = '../data/yfinance_data/'\n",
    "\n",
    "data_loader = DataLoader(news_data_path, stock_data_dir)\n",
    "sentiment_analyzer = SentimentAnalyzer()\n",
    "stock_analysis = StockAnalysis()\n",
    "visualizer = Visualizer()\n",
    "\n",
    "news_data = data_loader.load_news_data()\n",
    "stock_data = data_loader.load_all_stock_data()\n"
   ]
  },
  {
   "cell_type": "code",
   "execution_count": null,
   "id": "88b66e38-cadd-4e99-8d67-ce26d819ca68",
   "metadata": {},
   "outputs": [],
   "source": [
    "#Perform sentiment analysis\n",
    "news_data['Sentiment'] = news_data['headline'].apply(sentiment_analyzer.analyze_sentiment)\n",
    "news_data.head()"
   ]
  },
  {
   "cell_type": "code",
   "execution_count": null,
   "id": "65133111-ee57-40a3-92e6-891b307c6fc1",
   "metadata": {},
   "outputs": [],
   "source": [
    "# Process each stock and analyze\n",
    "for ticker, data in stock_data.items():\n",
    "    print(f\"Processing data for {ticker}...\")\n",
    "    data = stock_analysis.calculate_daily_returns(data)\n",
    "    merged_data = stock_analysis.merge_data(news_data, data)\n",
    "    correlation = stock_analysis.calculate_correlation(merged_data)\n",
    "    print(f\"Correlation between sentiment and daily return for {ticker}: {correlation:.2f}\")\n",
    "    visualizer.plot_correlation(merged_data)"
   ]
  },
  {
   "cell_type": "code",
   "execution_count": null,
   "id": "bd62702f",
   "metadata": {},
   "outputs": [],
   "source": [
    "# Initialize dictionaries to store results\n",
    "correlation_results = {}\n"
   ]
  },
  {
   "cell_type": "code",
   "execution_count": null,
   "id": "d11d594d",
   "metadata": {},
   "outputs": [],
   "source": [
    "# Display all correlation results\n",
    "print(\"Correlation Results between News Sentiment and Stock Returns:\")\n",
    "for ticker, correlation in correlation_results.items():\n",
    "    print(f\"{ticker}: {correlation:.2f}\")\n",
    "\n",
    "# Conclusion cell: Calculate average correlation\n",
    "average_correlation = sum(correlation_results.values()) / len(correlation_results)\n",
    "print(f\"\\nAverage correlation across all stocks: {average_correlation:.2f}\")\n",
    "\n",
    "# Interpret the result\n",
    "if average_correlation > 0:\n",
    "    print(\"Overall, there is a positive correlation between news sentiment and stock returns, suggesting that positive news sentiment is generally associated with stock price increases.\")\n",
    "elif average_correlation < 0:\n",
    "    print(\"Overall, there is a negative correlation between news sentiment and stock returns, suggesting that negative news sentiment is generally associated with stock price decreases.\")\n",
    "else:\n",
    "    print(\"Overall, there is no significant correlation between news sentiment and stock returns.\")"
   ]
  }
 ],
 "metadata": {
  "kernelspec": {
   "display_name": "Python 3 (ipykernel)",
   "language": "python",
   "name": "python3"
  },
  "language_info": {
   "codemirror_mode": {
    "name": "ipython",
    "version": 3
   },
   "file_extension": ".py",
   "mimetype": "text/x-python",
   "name": "python",
   "nbconvert_exporter": "python",
   "pygments_lexer": "ipython3",
   "version": "3.12.0"
  }
 },
 "nbformat": 4,
 "nbformat_minor": 5
}
